{
 "cells": [
  {
   "cell_type": "markdown",
   "metadata": {},
   "source": [
    "# 6. `cattrs`\n",
    "\n",
    "That was harder than it should have been. Let's use `cattrs` instead."
   ]
  },
  {
   "cell_type": "code",
   "execution_count": null,
   "metadata": {},
   "outputs": [],
   "source": [
    "import cattr\n",
    "import yaml\n",
    "\n",
    "import import_ipynb\n",
    "from part_4b_nested_config_validated import Config\n",
    "\n",
    "def parse_config():\n",
    "    cfg = yaml.safe_load(open(\"part_4_example_config.yaml\"))\n",
    "    return cattr.structure(cfg, Config)\n",
    "\n",
    "parse_config()"
   ]
  }
 ],
 "metadata": {
  "kernelspec": {
   "display_name": "Python 3",
   "language": "python",
   "name": "python3"
  },
  "language_info": {
   "codemirror_mode": {
    "name": "ipython",
    "version": 3
   },
   "file_extension": ".py",
   "mimetype": "text/x-python",
   "name": "python",
   "nbconvert_exporter": "python",
   "pygments_lexer": "ipython3",
   "version": "3.7.4"
  }
 },
 "nbformat": 4,
 "nbformat_minor": 4
}
