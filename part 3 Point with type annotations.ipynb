{
 "cells": [
  {
   "cell_type": "markdown",
   "metadata": {},
   "source": [
    "# 3. `Point` with type annotations\n",
    "\n",
    "If you're using Python 3.6 or higher, you can type-annotate your fields instead of (or as well as) using `attr.ib()`.\n",
    "\n",
    "`attrs` doesn't use the annotations for anything (so you'll still need to use `attr.ib()` for validations, etc.) but `mypy` will check types for you."
   ]
  },
  {
   "cell_type": "code",
   "execution_count": null,
   "metadata": {},
   "outputs": [],
   "source": [
    "import mypy_magic"
   ]
  },
  {
   "cell_type": "code",
   "execution_count": null,
   "metadata": {},
   "outputs": [],
   "source": [
    "%%mypy\n",
    "import attr\n",
    "\n",
    "@attr.s(auto_attribs=True)\n",
    "class Point:\n",
    "    x: int\n",
    "    y: int\n",
    "\n",
    "Point(4, 5)\n",
    "Point(\"four\", 5)"
   ]
  }
 ],
 "metadata": {
  "kernelspec": {
   "display_name": "Python 3",
   "language": "python",
   "name": "python3"
  },
  "language_info": {
   "codemirror_mode": {
    "name": "ipython",
    "version": 3
   },
   "file_extension": ".py",
   "mimetype": "text/x-python",
   "name": "python",
   "nbconvert_exporter": "python",
   "pygments_lexer": "ipython3",
   "version": "3.7.4"
  }
 },
 "nbformat": 4,
 "nbformat_minor": 4
}
