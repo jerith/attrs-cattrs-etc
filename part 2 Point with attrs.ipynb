{
 "cells": [
  {
   "cell_type": "markdown",
   "metadata": {},
   "source": [
    "# 2. `Point` with `attrs`\n",
    "\n",
    "Things we want:\n",
    " * [x] nice repr\n",
    " * [ ] integer validation (but we can cheat and use `int` to convert)\n",
    " * [x] comparison\n",
    " * [ ] immutability"
   ]
  },
  {
   "cell_type": "code",
   "execution_count": null,
   "metadata": {},
   "outputs": [],
   "source": [
    "import attr\n",
    "\n",
    "@attr.s\n",
    "class Point:\n",
    "    x = attr.ib()\n",
    "    y = attr.ib()"
   ]
  }
 ],
 "metadata": {
  "kernelspec": {
   "display_name": "Python 3",
   "language": "python",
   "name": "python3"
  },
  "language_info": {
   "codemirror_mode": {
    "name": "ipython",
    "version": 3
   },
   "file_extension": ".py",
   "mimetype": "text/x-python",
   "name": "python",
   "nbconvert_exporter": "python",
   "pygments_lexer": "ipython3",
   "version": "3.7.4"
  }
 },
 "nbformat": 4,
 "nbformat_minor": 4
}
