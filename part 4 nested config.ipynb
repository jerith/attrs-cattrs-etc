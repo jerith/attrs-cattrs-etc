{
 "cells": [
  {
   "cell_type": "markdown",
   "metadata": {},
   "source": [
    "# 4. nested config\n",
    "\n",
    "I'm really tired of two things:\n",
    " * rummaging around in complex unstructured config data\n",
    " * parsing unstructured config data by hand\n",
    "\n",
    "Fortunately, there's a better way!\n",
    "\n",
    "Here's the actual config[<sup>1</sup>](#fn1) classes from my current work project. (Annoyingly, the combination of type annotations and factory parameters forces a bottom-up ordering even though a top-down ordering would make more sense.)\n",
    "\n",
    "<span id=\"fn1\">[1] They also do the actual work of fetching and processing things, but that's an implementation detail.</span>\n",
    "\n",
    "----"
   ]
  },
  {
   "cell_type": "markdown",
   "metadata": {},
   "source": [
    "We start with some imports. Since we've elided the bulk of the implementation code, all we need are some typing helpers and `attr`."
   ]
  },
  {
   "cell_type": "code",
   "execution_count": null,
   "metadata": {},
   "outputs": [],
   "source": [
    "from typing import Dict, List, Optional, Union\n",
    "\n",
    "import attr"
   ]
  },
  {
   "cell_type": "markdown",
   "metadata": {},
   "source": [
    "Base class for `Source` objects. This isn't instantiated directly, but all sources subclass it.\n",
    "\n",
    "There's some trickery here regarding the `type` field. We put that in the YAML to indicate which source type we want, but we don't actually pass it into the constructor. However, we need it again when we serialize a config. (We can't use a non-attr `type` field for that because `attrs` won't serialize it.)\n",
    "\n",
    "There's some more trickery regarding `logger`. A naïve implementation using `self._logger = logger` is foiled by `frozen=True`, so we have to sneak up from behind by calling `object.__setattr__` directly. Nothing is ever truly immutable in Python."
   ]
  },
  {
   "cell_type": "code",
   "execution_count": null,
   "metadata": {},
   "outputs": [],
   "source": [
    "@attr.s(frozen=True)\n",
    "class SourceBase:\n",
    "    \"Base class: ad-hoc interface and some common behaviour.\"\n",
    "\n",
    "    name: str = attr.ib()\n",
    "    # We strip the type field out of the source dict during parsing. This\n",
    "    # attrib puts it back during serialization so we can read what we wrote.\n",
    "    type: str = attr.ib(init=False)\n",
    "\n",
    "    @type.default\n",
    "    def _type_default(self):\n",
    "        return self._source_type\n",
    "\n",
    "    _logger = None\n",
    "\n",
    "    @property\n",
    "    def displayname(self):\n",
    "        return f\"{self._source_type}:{self.name}\"\n",
    "\n",
    "    @property\n",
    "    def logger(self):\n",
    "        if self._logger is None:\n",
    "            # Because we (and all our subclasses) are frozen, we need to cheat.\n",
    "            logger = _sources_logger.child(self.displayname)\n",
    "            object.__setattr__(self, \"_logger\", logger)\n",
    "        return self._logger\n",
    "\n",
    "    async def fetch(self, dest_dir):\n",
    "        raise NotImplementedError()"
   ]
  },
  {
   "cell_type": "markdown",
   "metadata": {},
   "source": [
    "The simplest source type."
   ]
  },
  {
   "cell_type": "code",
   "execution_count": null,
   "metadata": {},
   "outputs": [],
   "source": [
    "@attr.s(frozen=True)\n",
    "class Manifest(SourceBase):\n",
    "    \"Fetch a file that is assumed to contain YAML.\"\n",
    "\n",
    "    _source_type = \"manifest\"\n",
    "\n",
    "    url: str = attr.ib()\n",
    "\n",
    "    async def fetch(self, dest_dir):\n",
    "        pass"
   ]
  },
  {
   "cell_type": "markdown",
   "metadata": {},
   "source": [
    "A `HelmChart` has two slightly complicated fields:\n",
    " * `templatevars` is a dict (which is passed into the constructor as-is from the YAML)\n",
    " * `releasevars` is another `attr.s` class that must be constructed before we pass it in\n",
    " \n",
    "Warning: While `HelmChart` is frozen and thus \"immutable\", `HelmChart.templatevars` is a normal mutable dict. We could add `frozendict` as a dependency if we really cared, but that comes with its own caveats. Nothing is ever truly immutable in Python."
   ]
  },
  {
   "cell_type": "code",
   "execution_count": null,
   "metadata": {},
   "outputs": [],
   "source": [
    "@attr.s(frozen=True)\n",
    "class HelmChartReleaseVars:\n",
    "    \"Things helm wnats that aren't template variables.\"\n",
    "\n",
    "    name: Optional[str] = attr.ib(default=None)\n",
    "    namespace: Optional[str] = attr.ib(default=None)\n",
    "\n",
    "\n",
    "@attr.s(frozen=True)\n",
    "class HelmChart(SourceBase):\n",
    "    \"Fetch a helm chart and render it to a single YAML file.\"\n",
    "\n",
    "    _source_type = \"chart\"\n",
    "\n",
    "    repo: str = attr.ib()\n",
    "    version: str = attr.ib()\n",
    "    templatevars: Dict[str, str] = attr.ib(factory=dict)\n",
    "    releasevars: HelmChartReleaseVars = attr.ib(factory=HelmChartReleaseVars)\n",
    "\n",
    "    async def fetch(self, dest_dir):\n",
    "        pass"
   ]
  },
  {
   "cell_type": "markdown",
   "metadata": {},
   "source": [
    "`Archive` has the most complicated field of all: `paths` is a list of `ArchivePath` objects, which must all be constructed on the way in. `ArchivePath` also does some custom validation on one of its fields.\n",
    "\n",
    "(As before, `frozen=True` can't save us from `list`'s mutability. We could use a `tuple` instead, but then we'd have to do more type juggling between these classes and YAML.)"
   ]
  },
  {
   "cell_type": "code",
   "execution_count": null,
   "metadata": {},
   "outputs": [],
   "source": [
    "@attr.s(frozen=True)\n",
    "class ArchivePath:\n",
    "    \"Complicated path glob matcher.\"\n",
    "\n",
    "    path: str = attr.ib()\n",
    "    dest: str = attr.ib(default=\"\")\n",
    "\n",
    "    @path.validator\n",
    "    def _path_validator(self, attribute, value):\n",
    "        for seg in value.split(\"/\")[:-1]:\n",
    "            if seg == \"**\":\n",
    "                raise ValueError(\"** may only appear at the end of a path\")\n",
    "\n",
    "    def match(self, path) -> Optional[str]:\n",
    "        pass\n",
    "\n",
    "\n",
    "@attr.s(frozen=True)\n",
    "class Archive(SourceBase):\n",
    "    \"Fetch an archive and extracts a subset of the files within it.\"\n",
    "\n",
    "    _source_type = \"archive\"\n",
    "\n",
    "    url: str = attr.ib()\n",
    "    paths: List[ArchivePath] = attr.ib(factory=list)\n",
    "\n",
    "    async def fetch(self, dest_dir):\n",
    "        pass"
   ]
  },
  {
   "cell_type": "markdown",
   "metadata": {},
   "source": [
    "`SOURCE_MAP` is how we get from the `type` field in the YAML to the source class and `Source = Union[...]` tells anything looking at type annotations that a `Source` is an instance of one of our three source classes."
   ]
  },
  {
   "cell_type": "code",
   "execution_count": null,
   "metadata": {},
   "outputs": [],
   "source": [
    "SOURCE_MAP = {\"chart\": HelmChart, \"manifest\": Manifest, \"archive\": Archive}\n",
    "\n",
    "Source = Union[HelmChart, Manifest, Archive]"
   ]
  },
  {
   "cell_type": "markdown",
   "metadata": {},
   "source": [
    "Finally, the top-level config class. When I'm finished, there will be more than just the `sources` field in here."
   ]
  },
  {
   "cell_type": "code",
   "execution_count": null,
   "metadata": {},
   "outputs": [],
   "source": [
    "@attr.s(frozen=True)\n",
    "class Config:\n",
    "    \"Structured config object parsed populated from YAML file.\"\n",
    "\n",
    "    sources: List[Source] = attr.ib()"
   ]
  }
 ],
 "metadata": {
  "kernelspec": {
   "display_name": "Python 3",
   "language": "python",
   "name": "python3"
  },
  "language_info": {
   "codemirror_mode": {
    "name": "ipython",
    "version": 3
   },
   "file_extension": ".py",
   "mimetype": "text/x-python",
   "name": "python",
   "nbconvert_exporter": "python",
   "pygments_lexer": "ipython3",
   "version": "3.7.4"
  }
 },
 "nbformat": 4,
 "nbformat_minor": 4
}
